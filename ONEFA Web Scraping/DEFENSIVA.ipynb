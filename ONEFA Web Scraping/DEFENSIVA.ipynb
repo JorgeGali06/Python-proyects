{
 "cells": [
  {
   "cell_type": "code",
   "execution_count": 1,
   "metadata": {},
   "outputs": [],
   "source": [
    "#Importar librerias\n",
    "import pandas as pd\n",
    "import requests\n",
    "from bs4 import BeautifulSoup\n",
    "\n",
    "#Obtener respuesta de la pagina we consultada\n",
    "url = \"https://receptor.com.mx/2022/09/07/estadisticas-liga-mayor-onefa-2022\"\n",
    "r = requests.get(url)\n",
    "\n",
    "#Usamos BeautifulSoup\n",
    "# The <tr> HTML element defines a row of cells in a table.\n",
    "# The <thead> tag is used to group header content in an HTML table. The <thead> element is used in conjunction with the <tbody> and <tfoot> elements to specify each part of a table (header, body, footer). \n",
    "#The <th> tag defines a header cell in an HTML table.\n",
    "soup = BeautifulSoup(r.content,'html.parser')\n",
    "columns = soup.find('table', attrs={\"data-id\":\"169\"}).find('thead').find('tr').find_all('th')\n",
    "\n",
    "#Iterar por cada uno de los th para optener las columnas \n",
    "column_names = []\n",
    "for column in columns:\n",
    "    column_names.append(column.get_text())\n",
    "\n",
    "# Obtener el valor de cada fila\n",
    "rows = soup.find('table',attrs={\"data-id\":\"169\"}).find('tbody').find_all('tr')\n",
    "\n",
    "equipo = []\n",
    "jj = []\n",
    "pts_perm = []\n",
    "pppj = []\n",
    "yds_tot = []\n",
    "yds_tot_partido = []\n",
    "yds_pase = []\n",
    "yds_pase_partido = []\n",
    "yds_tierra = []\n",
    "yds_tierra_partido = []\n",
    "primeroy10_perm = []\n",
    "\n",
    "for row in rows:\n",
    "    equipo.append(row.find_all('td')[0].get_text())\n",
    "    jj.append(row.find_all('td')[1].get_text())\n",
    "    pts_perm.append(row.find_all('td')[2].get_text())\n",
    "    pppj.append(row.find_all('td')[3].get_text())\n",
    "    yds_tot.append(row.find_all('td')[4].get_text())\n",
    "    yds_tot_partido.append(row.find_all('td')[5].get_text())\n",
    "    yds_pase.append(row.find_all('td')[6].get_text())\n",
    "    yds_pase_partido.append(row.find_all('td')[7].get_text())\n",
    "    yds_tierra.append(row.find_all('td')[8].get_text())\n",
    "    yds_tierra_partido.append(row.find_all('td')[9].get_text())\n",
    "    primeroy10_perm.append(row.find_all('td')[10].get_text())\n",
    "\n",
    "# Crear el data frame\n",
    "\n",
    "data = pd.DataFrame({\"Equipos\":equipo,\n",
    "                    \"JJ\": jj,\n",
    "                    \"Pts Perm\": pts_perm,\n",
    "                    \"PPPJ\": pppj,\n",
    "                    \"Yds Tot\": yds_tot,\n",
    "                    \"Yds tot/partido\": yds_tot_partido,\n",
    "                    \"Yds Pase\": yds_pase,\n",
    "                    \"Yds Pase/partido\": yds_pase_partido,\n",
    "                    \"Yds Tierra\": yds_tierra,\n",
    "                    \"Yds Tierr/partido\": yds_tierra_partido,\n",
    "                    \"1Y10S Perm\":primeroy10_perm\n",
    "                    })\n",
    "\n"
   ]
  },
  {
   "cell_type": "code",
   "execution_count": 2,
   "metadata": {},
   "outputs": [],
   "source": [
    "#Crear el archivo CSV\n",
    "data.to_csv('ONEFADEFENSIVA.csv')"
   ]
  }
 ],
 "metadata": {
  "kernelspec": {
   "display_name": "Python 3.10.3 64-bit",
   "language": "python",
   "name": "python3"
  },
  "language_info": {
   "codemirror_mode": {
    "name": "ipython",
    "version": 3
   },
   "file_extension": ".py",
   "mimetype": "text/x-python",
   "name": "python",
   "nbconvert_exporter": "python",
   "pygments_lexer": "ipython3",
   "version": "3.10.3"
  },
  "orig_nbformat": 4,
  "vscode": {
   "interpreter": {
    "hash": "2111ef7514d0cd31f42d5b8df48f0aadcba9168a8379e5e8e8c1e0a805943b03"
   }
  }
 },
 "nbformat": 4,
 "nbformat_minor": 2
}
